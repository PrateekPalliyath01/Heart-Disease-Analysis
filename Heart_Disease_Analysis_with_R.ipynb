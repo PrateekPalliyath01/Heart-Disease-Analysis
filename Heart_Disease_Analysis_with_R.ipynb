{
  "cells": [
    {
      "cell_type": "markdown",
      "metadata": {
        "id": "view-in-github",
        "colab_type": "text"
      },
      "source": [
        "<a href=\"https://colab.research.google.com/github/PrateekPalliyath01/Heart-Disease-Analysis-with-R/blob/main/Heart_Disease_Analysis_with_R.ipynb\" target=\"_parent\"><img src=\"https://colab.research.google.com/assets/colab-badge.svg\" alt=\"Open In Colab\"/></a>"
      ]
    },
    {
      "cell_type": "markdown",
      "metadata": {
        "id": "w7AmLZFyhlFE"
      },
      "source": [
        "## Loading Libraries"
      ]
    },
    {
      "cell_type": "code",
      "execution_count": null,
      "metadata": {
        "id": "gdXzltZHhlFG",
        "outputId": "6cd104dd-7259-4fd3-fe98-4dc5c1ff6ee5"
      },
      "outputs": [
        {
          "name": "stderr",
          "output_type": "stream",
          "text": [
            "Registered S3 methods overwritten by 'ggplot2':\n",
            "  method         from \n",
            "  [.quosures     rlang\n",
            "  c.quosures     rlang\n",
            "  print.quosures rlang\n",
            "Registered S3 method overwritten by 'rvest':\n",
            "  method            from\n",
            "  read_xml.response xml2\n",
            "-- Attaching packages --------------------------------------- tidyverse 1.2.1 --\n",
            "v ggplot2 3.1.1       v purrr   0.3.2  \n",
            "v tibble  2.1.1       v dplyr   0.8.0.1\n",
            "v tidyr   0.8.3       v stringr 1.4.0  \n",
            "v readr   1.3.1       v forcats 0.4.0  \n",
            "-- Conflicts ------------------------------------------ tidyverse_conflicts() --\n",
            "x dplyr::filter() masks stats::filter()\n",
            "x dplyr::lag()    masks stats::lag()\n"
          ]
        }
      ],
      "source": [
        "library(tidyverse)"
      ]
    },
    {
      "cell_type": "code",
      "execution_count": null,
      "metadata": {
        "id": "6N-epRU0hlFJ",
        "outputId": "d6081507-5c7e-4e08-8575-212acbbdc8f4"
      },
      "outputs": [
        {
          "data": {
            "text/html": [
              "<table>\n",
              "<thead><tr><th scope=col>ï..age</th><th scope=col>sex</th><th scope=col>cp</th><th scope=col>trestbps</th><th scope=col>chol</th><th scope=col>fbs</th><th scope=col>restecg</th><th scope=col>thalach</th><th scope=col>exang</th><th scope=col>oldpeak</th><th scope=col>slope</th><th scope=col>ca</th><th scope=col>thal</th><th scope=col>target</th></tr></thead>\n",
              "<tbody>\n",
              "\t<tr><td>63 </td><td>1  </td><td>3  </td><td>145</td><td>233</td><td>1  </td><td>0  </td><td>150</td><td>0  </td><td>2.3</td><td>0  </td><td>0  </td><td>1  </td><td>1  </td></tr>\n",
              "\t<tr><td>37 </td><td>1  </td><td>2  </td><td>130</td><td>250</td><td>0  </td><td>1  </td><td>187</td><td>0  </td><td>3.5</td><td>0  </td><td>0  </td><td>2  </td><td>1  </td></tr>\n",
              "\t<tr><td>41 </td><td>0  </td><td>1  </td><td>130</td><td>204</td><td>0  </td><td>0  </td><td>172</td><td>0  </td><td>1.4</td><td>2  </td><td>0  </td><td>2  </td><td>1  </td></tr>\n",
              "\t<tr><td>56 </td><td>1  </td><td>1  </td><td>120</td><td>236</td><td>0  </td><td>1  </td><td>178</td><td>0  </td><td>0.8</td><td>2  </td><td>0  </td><td>2  </td><td>1  </td></tr>\n",
              "\t<tr><td>57 </td><td>0  </td><td>0  </td><td>120</td><td>354</td><td>0  </td><td>1  </td><td>163</td><td>1  </td><td>0.6</td><td>2  </td><td>0  </td><td>2  </td><td>1  </td></tr>\n",
              "\t<tr><td>57 </td><td>1  </td><td>0  </td><td>140</td><td>192</td><td>0  </td><td>1  </td><td>148</td><td>0  </td><td>0.4</td><td>1  </td><td>0  </td><td>1  </td><td>1  </td></tr>\n",
              "</tbody>\n",
              "</table>\n"
            ],
            "text/latex": [
              "\\begin{tabular}{r|llllllllllllll}\n",
              " ï..age & sex & cp & trestbps & chol & fbs & restecg & thalach & exang & oldpeak & slope & ca & thal & target\\\\\n",
              "\\hline\n",
              "\t 63  & 1   & 3   & 145 & 233 & 1   & 0   & 150 & 0   & 2.3 & 0   & 0   & 1   & 1  \\\\\n",
              "\t 37  & 1   & 2   & 130 & 250 & 0   & 1   & 187 & 0   & 3.5 & 0   & 0   & 2   & 1  \\\\\n",
              "\t 41  & 0   & 1   & 130 & 204 & 0   & 0   & 172 & 0   & 1.4 & 2   & 0   & 2   & 1  \\\\\n",
              "\t 56  & 1   & 1   & 120 & 236 & 0   & 1   & 178 & 0   & 0.8 & 2   & 0   & 2   & 1  \\\\\n",
              "\t 57  & 0   & 0   & 120 & 354 & 0   & 1   & 163 & 1   & 0.6 & 2   & 0   & 2   & 1  \\\\\n",
              "\t 57  & 1   & 0   & 140 & 192 & 0   & 1   & 148 & 0   & 0.4 & 1   & 0   & 1   & 1  \\\\\n",
              "\\end{tabular}\n"
            ],
            "text/markdown": [
              "\n",
              "| ï..age | sex | cp | trestbps | chol | fbs | restecg | thalach | exang | oldpeak | slope | ca | thal | target |\n",
              "|---|---|---|---|---|---|---|---|---|---|---|---|---|---|\n",
              "| 63  | 1   | 3   | 145 | 233 | 1   | 0   | 150 | 0   | 2.3 | 0   | 0   | 1   | 1   |\n",
              "| 37  | 1   | 2   | 130 | 250 | 0   | 1   | 187 | 0   | 3.5 | 0   | 0   | 2   | 1   |\n",
              "| 41  | 0   | 1   | 130 | 204 | 0   | 0   | 172 | 0   | 1.4 | 2   | 0   | 2   | 1   |\n",
              "| 56  | 1   | 1   | 120 | 236 | 0   | 1   | 178 | 0   | 0.8 | 2   | 0   | 2   | 1   |\n",
              "| 57  | 0   | 0   | 120 | 354 | 0   | 1   | 163 | 1   | 0.6 | 2   | 0   | 2   | 1   |\n",
              "| 57  | 1   | 0   | 140 | 192 | 0   | 1   | 148 | 0   | 0.4 | 1   | 0   | 1   | 1   |\n",
              "\n"
            ],
            "text/plain": [
              "  ï..age sex cp trestbps chol fbs restecg thalach exang oldpeak slope ca thal\n",
              "1 63     1   3  145      233  1   0       150     0     2.3     0     0  1   \n",
              "2 37     1   2  130      250  0   1       187     0     3.5     0     0  2   \n",
              "3 41     0   1  130      204  0   0       172     0     1.4     2     0  2   \n",
              "4 56     1   1  120      236  0   1       178     0     0.8     2     0  2   \n",
              "5 57     0   0  120      354  0   1       163     1     0.6     2     0  2   \n",
              "6 57     1   0  140      192  0   1       148     0     0.4     1     0  1   \n",
              "  target\n",
              "1 1     \n",
              "2 1     \n",
              "3 1     \n",
              "4 1     \n",
              "5 1     \n",
              "6 1     "
            ]
          },
          "metadata": {},
          "output_type": "display_data"
        }
      ],
      "source": [
        "data <- read.csv(\"heart.csv\")\n",
        "head(data)"
      ]
    },
    {
      "cell_type": "code",
      "execution_count": null,
      "metadata": {
        "id": "XmGps07XhlFJ",
        "outputId": "91c6e63e-6c8d-4c48-d0a5-01a8cd4df787"
      },
      "outputs": [
        {
          "data": {
            "text/html": [
              "<table>\n",
              "<thead><tr><th></th><th scope=col>ï..age</th><th scope=col>sex</th><th scope=col>cp</th><th scope=col>trestbps</th><th scope=col>chol</th><th scope=col>fbs</th><th scope=col>restecg</th><th scope=col>thalach</th><th scope=col>exang</th><th scope=col>oldpeak</th><th scope=col>slope</th><th scope=col>ca</th><th scope=col>thal</th><th scope=col>target</th></tr></thead>\n",
              "<tbody>\n",
              "\t<tr><th scope=row>298</th><td>59 </td><td>1  </td><td>0  </td><td>164</td><td>176</td><td>1  </td><td>0  </td><td> 90</td><td>0  </td><td>1.0</td><td>1  </td><td>2  </td><td>1  </td><td>0  </td></tr>\n",
              "\t<tr><th scope=row>299</th><td>57 </td><td>0  </td><td>0  </td><td>140</td><td>241</td><td>0  </td><td>1  </td><td>123</td><td>1  </td><td>0.2</td><td>1  </td><td>0  </td><td>3  </td><td>0  </td></tr>\n",
              "\t<tr><th scope=row>300</th><td>45 </td><td>1  </td><td>3  </td><td>110</td><td>264</td><td>0  </td><td>1  </td><td>132</td><td>0  </td><td>1.2</td><td>1  </td><td>0  </td><td>3  </td><td>0  </td></tr>\n",
              "\t<tr><th scope=row>301</th><td>68 </td><td>1  </td><td>0  </td><td>144</td><td>193</td><td>1  </td><td>1  </td><td>141</td><td>0  </td><td>3.4</td><td>1  </td><td>2  </td><td>3  </td><td>0  </td></tr>\n",
              "\t<tr><th scope=row>302</th><td>57 </td><td>1  </td><td>0  </td><td>130</td><td>131</td><td>0  </td><td>1  </td><td>115</td><td>1  </td><td>1.2</td><td>1  </td><td>1  </td><td>3  </td><td>0  </td></tr>\n",
              "\t<tr><th scope=row>303</th><td>57 </td><td>0  </td><td>1  </td><td>130</td><td>236</td><td>0  </td><td>0  </td><td>174</td><td>0  </td><td>0.0</td><td>1  </td><td>1  </td><td>2  </td><td>0  </td></tr>\n",
              "</tbody>\n",
              "</table>\n"
            ],
            "text/latex": [
              "\\begin{tabular}{r|llllllllllllll}\n",
              "  & ï..age & sex & cp & trestbps & chol & fbs & restecg & thalach & exang & oldpeak & slope & ca & thal & target\\\\\n",
              "\\hline\n",
              "\t298 & 59  & 1   & 0   & 164 & 176 & 1   & 0   &  90 & 0   & 1.0 & 1   & 2   & 1   & 0  \\\\\n",
              "\t299 & 57  & 0   & 0   & 140 & 241 & 0   & 1   & 123 & 1   & 0.2 & 1   & 0   & 3   & 0  \\\\\n",
              "\t300 & 45  & 1   & 3   & 110 & 264 & 0   & 1   & 132 & 0   & 1.2 & 1   & 0   & 3   & 0  \\\\\n",
              "\t301 & 68  & 1   & 0   & 144 & 193 & 1   & 1   & 141 & 0   & 3.4 & 1   & 2   & 3   & 0  \\\\\n",
              "\t302 & 57  & 1   & 0   & 130 & 131 & 0   & 1   & 115 & 1   & 1.2 & 1   & 1   & 3   & 0  \\\\\n",
              "\t303 & 57  & 0   & 1   & 130 & 236 & 0   & 0   & 174 & 0   & 0.0 & 1   & 1   & 2   & 0  \\\\\n",
              "\\end{tabular}\n"
            ],
            "text/markdown": [
              "\n",
              "| <!--/--> | ï..age | sex | cp | trestbps | chol | fbs | restecg | thalach | exang | oldpeak | slope | ca | thal | target |\n",
              "|---|---|---|---|---|---|---|---|---|---|---|---|---|---|---|\n",
              "| 298 | 59  | 1   | 0   | 164 | 176 | 1   | 0   |  90 | 0   | 1.0 | 1   | 2   | 1   | 0   |\n",
              "| 299 | 57  | 0   | 0   | 140 | 241 | 0   | 1   | 123 | 1   | 0.2 | 1   | 0   | 3   | 0   |\n",
              "| 300 | 45  | 1   | 3   | 110 | 264 | 0   | 1   | 132 | 0   | 1.2 | 1   | 0   | 3   | 0   |\n",
              "| 301 | 68  | 1   | 0   | 144 | 193 | 1   | 1   | 141 | 0   | 3.4 | 1   | 2   | 3   | 0   |\n",
              "| 302 | 57  | 1   | 0   | 130 | 131 | 0   | 1   | 115 | 1   | 1.2 | 1   | 1   | 3   | 0   |\n",
              "| 303 | 57  | 0   | 1   | 130 | 236 | 0   | 0   | 174 | 0   | 0.0 | 1   | 1   | 2   | 0   |\n",
              "\n"
            ],
            "text/plain": [
              "    ï..age sex cp trestbps chol fbs restecg thalach exang oldpeak slope ca thal\n",
              "298 59     1   0  164      176  1   0        90     0     1.0     1     2  1   \n",
              "299 57     0   0  140      241  0   1       123     1     0.2     1     0  3   \n",
              "300 45     1   3  110      264  0   1       132     0     1.2     1     0  3   \n",
              "301 68     1   0  144      193  1   1       141     0     3.4     1     2  3   \n",
              "302 57     1   0  130      131  0   1       115     1     1.2     1     1  3   \n",
              "303 57     0   1  130      236  0   0       174     0     0.0     1     1  2   \n",
              "    target\n",
              "298 0     \n",
              "299 0     \n",
              "300 0     \n",
              "301 0     \n",
              "302 0     \n",
              "303 0     "
            ]
          },
          "metadata": {},
          "output_type": "display_data"
        }
      ],
      "source": [
        "tail(data)"
      ]
    },
    {
      "cell_type": "code",
      "execution_count": null,
      "metadata": {
        "id": "JmZylGExhlFK",
        "outputId": "1cf86f7e-1046-4307-db89-2c559e321f6a"
      },
      "outputs": [
        {
          "name": "stdout",
          "output_type": "stream",
          "text": [
            "Observations: 303\n",
            "Variables: 14\n",
            "$ ï..age   <int> 63, 37, 41, 56, 57, 57, 56, 44, 52, 57, 54, 48, 49, 64, 58...\n",
            "$ sex      <int> 1, 1, 0, 1, 0, 1, 0, 1, 1, 1, 1, 0, 1, 1, 0, 0, 0, 0, 1, 0...\n",
            "$ cp       <int> 3, 2, 1, 1, 0, 0, 1, 1, 2, 2, 0, 2, 1, 3, 3, 2, 2, 3, 0, 3...\n",
            "$ trestbps <int> 145, 130, 130, 120, 120, 140, 140, 120, 172, 150, 140, 130...\n",
            "$ chol     <int> 233, 250, 204, 236, 354, 192, 294, 263, 199, 168, 239, 275...\n",
            "$ fbs      <int> 1, 0, 0, 0, 0, 0, 0, 0, 1, 0, 0, 0, 0, 0, 1, 0, 0, 0, 0, 0...\n",
            "$ restecg  <int> 0, 1, 0, 1, 1, 1, 0, 1, 1, 1, 1, 1, 1, 0, 0, 1, 1, 1, 1, 1...\n",
            "$ thalach  <int> 150, 187, 172, 178, 163, 148, 153, 173, 162, 174, 160, 139...\n",
            "$ exang    <int> 0, 0, 0, 0, 1, 0, 0, 0, 0, 0, 0, 0, 0, 1, 0, 0, 0, 0, 0, 0...\n",
            "$ oldpeak  <dbl> 2.3, 3.5, 1.4, 0.8, 0.6, 0.4, 1.3, 0.0, 0.5, 1.6, 1.2, 0.2...\n",
            "$ slope    <int> 0, 0, 2, 2, 2, 1, 1, 2, 2, 2, 2, 2, 2, 1, 2, 1, 2, 0, 2, 2...\n",
            "$ ca       <int> 0, 0, 0, 0, 0, 0, 0, 0, 0, 0, 0, 0, 0, 0, 0, 0, 0, 0, 0, 2...\n",
            "$ thal     <int> 1, 2, 2, 2, 2, 1, 2, 3, 3, 2, 2, 2, 2, 2, 2, 2, 2, 2, 2, 2...\n",
            "$ target   <int> 1, 1, 1, 1, 1, 1, 1, 1, 1, 1, 1, 1, 1, 1, 1, 1, 1, 1, 1, 1...\n"
          ]
        }
      ],
      "source": [
        "glimpse(data)"
      ]
    },
    {
      "cell_type": "code",
      "execution_count": null,
      "metadata": {
        "id": "TqnkgtcJhlFK",
        "outputId": "6a47181d-3f7f-40b8-9568-a08c67fce0bc"
      },
      "outputs": [
        {
          "data": {
            "text/html": [
              "14"
            ],
            "text/latex": [
              "14"
            ],
            "text/markdown": [
              "14"
            ],
            "text/plain": [
              "[1] 14"
            ]
          },
          "metadata": {},
          "output_type": "display_data"
        }
      ],
      "source": [
        "ncol(data)"
      ]
    },
    {
      "cell_type": "code",
      "execution_count": null,
      "metadata": {
        "id": "o22pRg8qhlFL",
        "outputId": "2829e605-a49b-4268-a2a9-a5e44f8a60f6"
      },
      "outputs": [
        {
          "data": {
            "text/html": [
              "303"
            ],
            "text/latex": [
              "303"
            ],
            "text/markdown": [
              "303"
            ],
            "text/plain": [
              "[1] 303"
            ]
          },
          "metadata": {},
          "output_type": "display_data"
        }
      ],
      "source": [
        "nrow(data)"
      ]
    },
    {
      "cell_type": "code",
      "execution_count": null,
      "metadata": {
        "id": "WpUO_B5qhlFM",
        "outputId": "4fabb47b-f086-4032-8fe7-66fa7c0d66b4"
      },
      "outputs": [
        {
          "data": {
            "text/html": [
              "<ol class=list-inline>\n",
              "\t<li>'ï..age'</li>\n",
              "\t<li>'sex'</li>\n",
              "\t<li>'cp'</li>\n",
              "\t<li>'trestbps'</li>\n",
              "\t<li>'chol'</li>\n",
              "\t<li>'fbs'</li>\n",
              "\t<li>'restecg'</li>\n",
              "\t<li>'thalach'</li>\n",
              "\t<li>'exang'</li>\n",
              "\t<li>'oldpeak'</li>\n",
              "\t<li>'slope'</li>\n",
              "\t<li>'ca'</li>\n",
              "\t<li>'thal'</li>\n",
              "\t<li>'target'</li>\n",
              "</ol>\n"
            ],
            "text/latex": [
              "\\begin{enumerate*}\n",
              "\\item 'ï..age'\n",
              "\\item 'sex'\n",
              "\\item 'cp'\n",
              "\\item 'trestbps'\n",
              "\\item 'chol'\n",
              "\\item 'fbs'\n",
              "\\item 'restecg'\n",
              "\\item 'thalach'\n",
              "\\item 'exang'\n",
              "\\item 'oldpeak'\n",
              "\\item 'slope'\n",
              "\\item 'ca'\n",
              "\\item 'thal'\n",
              "\\item 'target'\n",
              "\\end{enumerate*}\n"
            ],
            "text/markdown": [
              "1. 'ï..age'\n",
              "2. 'sex'\n",
              "3. 'cp'\n",
              "4. 'trestbps'\n",
              "5. 'chol'\n",
              "6. 'fbs'\n",
              "7. 'restecg'\n",
              "8. 'thalach'\n",
              "9. 'exang'\n",
              "10. 'oldpeak'\n",
              "11. 'slope'\n",
              "12. 'ca'\n",
              "13. 'thal'\n",
              "14. 'target'\n",
              "\n",
              "\n"
            ],
            "text/plain": [
              " [1] \"ï..age\"   \"sex\"      \"cp\"       \"trestbps\" \"chol\"     \"fbs\"     \n",
              " [7] \"restecg\"  \"thalach\"  \"exang\"    \"oldpeak\"  \"slope\"    \"ca\"      \n",
              "[13] \"thal\"     \"target\"  "
            ]
          },
          "metadata": {},
          "output_type": "display_data"
        }
      ],
      "source": [
        "colnames(data)"
      ]
    },
    {
      "cell_type": "code",
      "execution_count": null,
      "metadata": {
        "id": "sQyz_1uHhlFM",
        "outputId": "b340269e-3583-45e4-b994-69ca2b0f5c9e"
      },
      "outputs": [
        {
          "data": {
            "text/plain": [
              "     ï..age           sex               cp           trestbps    \n",
              " Min.   :29.00   Min.   :0.0000   Min.   :0.000   Min.   : 94.0  \n",
              " 1st Qu.:47.50   1st Qu.:0.0000   1st Qu.:0.000   1st Qu.:120.0  \n",
              " Median :55.00   Median :1.0000   Median :1.000   Median :130.0  \n",
              " Mean   :54.37   Mean   :0.6832   Mean   :0.967   Mean   :131.6  \n",
              " 3rd Qu.:61.00   3rd Qu.:1.0000   3rd Qu.:2.000   3rd Qu.:140.0  \n",
              " Max.   :77.00   Max.   :1.0000   Max.   :3.000   Max.   :200.0  \n",
              "      chol            fbs            restecg          thalach     \n",
              " Min.   :126.0   Min.   :0.0000   Min.   :0.0000   Min.   : 71.0  \n",
              " 1st Qu.:211.0   1st Qu.:0.0000   1st Qu.:0.0000   1st Qu.:133.5  \n",
              " Median :240.0   Median :0.0000   Median :1.0000   Median :153.0  \n",
              " Mean   :246.3   Mean   :0.1485   Mean   :0.5281   Mean   :149.6  \n",
              " 3rd Qu.:274.5   3rd Qu.:0.0000   3rd Qu.:1.0000   3rd Qu.:166.0  \n",
              " Max.   :564.0   Max.   :1.0000   Max.   :2.0000   Max.   :202.0  \n",
              "     exang           oldpeak         slope             ca        \n",
              " Min.   :0.0000   Min.   :0.00   Min.   :0.000   Min.   :0.0000  \n",
              " 1st Qu.:0.0000   1st Qu.:0.00   1st Qu.:1.000   1st Qu.:0.0000  \n",
              " Median :0.0000   Median :0.80   Median :1.000   Median :0.0000  \n",
              " Mean   :0.3267   Mean   :1.04   Mean   :1.399   Mean   :0.7294  \n",
              " 3rd Qu.:1.0000   3rd Qu.:1.60   3rd Qu.:2.000   3rd Qu.:1.0000  \n",
              " Max.   :1.0000   Max.   :6.20   Max.   :2.000   Max.   :4.0000  \n",
              "      thal           target      \n",
              " Min.   :0.000   Min.   :0.0000  \n",
              " 1st Qu.:2.000   1st Qu.:0.0000  \n",
              " Median :2.000   Median :1.0000  \n",
              " Mean   :2.314   Mean   :0.5446  \n",
              " 3rd Qu.:3.000   3rd Qu.:1.0000  \n",
              " Max.   :3.000   Max.   :1.0000  "
            ]
          },
          "metadata": {},
          "output_type": "display_data"
        }
      ],
      "source": [
        "summary(data)"
      ]
    },
    {
      "cell_type": "markdown",
      "metadata": {
        "id": "rrF4qvXmhlFN"
      },
      "source": [
        "## Data Transformation"
      ]
    },
    {
      "cell_type": "code",
      "execution_count": null,
      "metadata": {
        "id": "w3Ec-DzohlFN"
      },
      "outputs": [],
      "source": [
        "data2 <- data %>%\n",
        "  mutate(sex = if_else(sex == 1, \"MALE\", \"FEMALE\"),\n",
        "         fbs = if_else(fbs == 1, \">120\", \"<=120\"),\n",
        "         exang = if_else(exang == 1, \"YES\" ,\"NO\"),\n",
        "         cp = if_else(cp == 1, \"ATYPICAL ANGINA\",\n",
        "                      if_else(cp == 2, \"NON-ANGINAL PAIN\", \"ASYMPTOMATIC\")),\n",
        "         restecg = if_else(restecg == 0, \"NORMAL\",\n",
        "                           if_else(restecg == 1, \"ABNORMALITY\", \"PROBABLE OR DEFINITE\")),\n",
        "         slope = as.factor(slope),\n",
        "         ca = as.factor(ca),\n",
        "         thal = as.factor(thal),\n",
        "         target = if_else(target == 1, \"YES\", \"NO\")\n",
        "         ) %>%\n",
        "  mutate_if(is.character, as.factor) %>%\n",
        "  dplyr::select(target, sex, fbs, exang, cp, restecg, slope, ca, thal, everything())\n"
      ]
    },
    {
      "cell_type": "markdown",
      "metadata": {
        "id": "SQtGdQ32hlFO"
      },
      "source": [
        "## Data Visualization"
      ]
    },
    {
      "cell_type": "code",
      "execution_count": null,
      "metadata": {
        "id": "9mylQP0AhlFO"
      },
      "outputs": [],
      "source": [
        "library(repr)\n",
        "#change the size of the plot\n",
        "\n",
        "options(repr.plot.width =6, repr.plot.height =3)"
      ]
    },
    {
      "cell_type": "code",
      "execution_count": null,
      "metadata": {
        "id": "pH75K0iZhlFO",
        "outputId": "4b394d70-5b0b-471d-b182-ef2cd7f8f7c8"
      },
      "outputs": [
        {
          "data": {
            "image/png": "[encoded data removed]",
            "text/plain": [
              "plot without title"
            ]
          },
          "metadata": {},
          "output_type": "display_data"
        }
      ],
      "source": [
        "# Bar Plot for target (heart disease)\n",
        "\n",
        "ggplot(data2, aes(x=data2$target, fill=data2$target))+\n",
        "   geom_bar()+\n",
        "   xlab(\"Heart Disease\")+\n",
        "   ylab(\"count\")+\n",
        "   ggtitle(\"Presence & Absence of Heart Disease\")+\n",
        "   scale_fill_discrete(name= 'Heart Disease', labels =c(\"Absence\", \"Presence\"))"
      ]
    },
    {
      "cell_type": "code",
      "execution_count": null,
      "metadata": {
        "id": "WXdK06nnhlFP",
        "outputId": "87376d36-21ef-4dc0-c3bd-48cd892c7c6e"
      },
      "outputs": [
        {
          "data": {
            "text/plain": [
              "\n",
              "       NO       YES \n",
              "0.4554455 0.5445545 "
            ]
          },
          "metadata": {},
          "output_type": "display_data"
        }
      ],
      "source": [
        "prop.table(table(data2$target))"
      ]
    },
    {
      "cell_type": "code",
      "execution_count": null,
      "metadata": {
        "id": "qXNV5bTZhlFP",
        "outputId": "97a0134a-082f-4127-ee22-a43a92f72941"
      },
      "outputs": [
        {
          "data": {
            "image/png": "[encoded data removed]",
            "text/plain": [
              "plot without title"
            ]
          },
          "metadata": {},
          "output_type": "display_data"
        }
      ],
      "source": [
        "# count the frequency of the values of age\n",
        "\n",
        "data2 %>%\n",
        "  group_by(ï..age) %>%\n",
        "  count() %>%\n",
        "  filter(n>10) %>%\n",
        "  ggplot()+\n",
        "  geom_col(aes(ï..age, n), fill = 'green')+\n",
        "  ggtitle(\"Age Analysis\")+\n",
        "  xlab(\"Age\")+\n",
        "  ylab(\"Agecount\")"
      ]
    },
    {
      "cell_type": "code",
      "execution_count": null,
      "metadata": {
        "id": "YVwm97uThlFP",
        "outputId": "7514b024-2d40-41f3-927c-49b0900e6c66"
      },
      "outputs": [
        {
          "data": {
            "image/png": "[encoded data removed]",
            "text/plain": [
              "plot without title"
            ]
          },
          "metadata": {},
          "output_type": "display_data"
        }
      ],
      "source": [
        "# comapre blood pressure across the chest pain\n",
        "\n",
        "data2 %>%\n",
        "  ggplot(aes(x=sex, y=trestbps))+\n",
        "  geom_boxplot(fill ='purple')+\n",
        "  xlab('sex')+\n",
        "  ylab('BP')+\n",
        "  facet_grid(~cp)"
      ]
    },
    {
      "cell_type": "code",
      "execution_count": null,
      "metadata": {
        "id": "dQuGTGGOhlFQ",
        "outputId": "38122ddb-b7f6-41f1-a980-dcbc1f12afe9"
      },
      "outputs": [
        {
          "name": "stderr",
          "output_type": "stream",
          "text": [
            "Warning message:\n",
            "\"Continuous x aesthetic -- did you forget aes(group=...)?\""
          ]
        },
        {
          "data": {
            "image/png": "[encoded data removed]",
            "text/plain": [
              "plot without title"
            ]
          },
          "metadata": {},
          "output_type": "display_data"
        }
      ],
      "source": [
        "data %>%\n",
        "  ggplot(aes(x=sex, y=trestbps))+\n",
        "  geom_boxplot(fill ='purple')+\n",
        "  xlab('sex')+\n",
        "  ylab('BP')+\n",
        "  facet_grid(~cp)"
      ]
    },
    {
      "cell_type": "code",
      "execution_count": null,
      "metadata": {
        "id": "qwZElpmthlFQ",
        "outputId": "f13bcd1a-534f-44a3-c506-2a212f6ea69b"
      },
      "outputs": [
        {
          "data": {
            "image/png": "[encoded data removed]",
            "text/plain": [
              "plot without title"
            ]
          },
          "metadata": {},
          "output_type": "display_data"
        }
      ],
      "source": [
        "data2 %>%\n",
        "  ggplot(aes(x=sex, y=chol))+\n",
        "  geom_boxplot(fill ='orange')+\n",
        "  xlab('sex')+\n",
        "  ylab('Chol')+\n",
        "  facet_grid(~cp)"
      ]
    },
    {
      "cell_type": "markdown",
      "metadata": {
        "id": "3u6eMG1FhlFQ"
      },
      "source": [
        "## Correlation"
      ]
    },
    {
      "cell_type": "code",
      "execution_count": null,
      "metadata": {
        "id": "tppbTCiAhlFQ",
        "outputId": "266b473d-fe8d-4822-acbd-09d8c1c467de"
      },
      "outputs": [
        {
          "name": "stdout",
          "output_type": "stream",
          "text": [
            "\n",
            "  There is a binary version available but the source version is later:\n",
            "         binary source needs_compilation\n",
            "corrplot   0.88   0.92             FALSE\n",
            "\n"
          ]
        },
        {
          "name": "stderr",
          "output_type": "stream",
          "text": [
            "installing the source package 'corrplot'\n",
            "\n",
            "also installing the dependency 'rlang'\n",
            "\n"
          ]
        },
        {
          "name": "stdout",
          "output_type": "stream",
          "text": [
            "\n",
            "  There are binary versions available but the source versions are later:\n",
            "        binary source needs_compilation\n",
            "rlang   0.4.11 0.4.12              TRUE\n",
            "ggplot2  3.3.3  3.3.5             FALSE\n",
            "\n",
            "  Binaries will be installed\n",
            "package 'rlang' successfully unpacked and MD5 sums checked\n"
          ]
        },
        {
          "name": "stderr",
          "output_type": "stream",
          "text": [
            "Warning message:\n",
            "\"cannot remove prior installation of package 'rlang'\"Warning message in file.copy(savedcopy, lib, recursive = TRUE):\n",
            "\"problem copying C:\\Users\\HP\\anaconda3\\envs\\R\\Lib\\R\\library\\00LOCK\\rlang\\libs\\x64\\rlang.dll to C:\\Users\\HP\\anaconda3\\envs\\R\\Lib\\R\\library\\rlang\\libs\\x64\\rlang.dll: Permission denied\"Warning message:\n",
            "\"restored 'rlang'\""
          ]
        },
        {
          "name": "stdout",
          "output_type": "stream",
          "text": [
            "\n",
            "The downloaded binary packages are in\n",
            "\tC:\\Users\\HP\\AppData\\Local\\Temp\\Rtmpc3aPAT\\downloaded_packages\n"
          ]
        },
        {
          "name": "stderr",
          "output_type": "stream",
          "text": [
            "installing the source package 'ggplot2'\n",
            "\n",
            "Warning message in install.packages(\"ggplot2\"):\n",
            "\"installation of package 'ggplot2' had non-zero exit status\""
          ]
        }
      ],
      "source": [
        "install.packages(\"corrplot\")\n",
        "install.packages(\"ggplot2\")"
      ]
    },
    {
      "cell_type": "code",
      "execution_count": null,
      "metadata": {
        "id": "wTwavIb4hlFQ",
        "outputId": "0595ae27-c75f-4d81-e5ba-a744d6fd663c"
      },
      "outputs": [
        {
          "name": "stderr",
          "output_type": "stream",
          "text": [
            "corrplot 0.92 loaded\n"
          ]
        }
      ],
      "source": [
        "library(corrplot)\n",
        "library(ggplot2)"
      ]
    },
    {
      "cell_type": "code",
      "execution_count": null,
      "metadata": {
        "id": "hvrPfM_whlFQ",
        "outputId": "00eafe16-2735-4594-a232-ae313624a964"
      },
      "outputs": [
        {
          "data": {
            "text/html": [
              "<table>\n",
              "<thead><tr><th></th><th scope=col>ï..age</th><th scope=col>trestbps</th><th scope=col>chol</th><th scope=col>thalach</th><th scope=col>oldpeak</th></tr></thead>\n",
              "<tbody>\n",
              "\t<tr><th scope=row>ï..age</th><td> 1.0000000  </td><td> 0.27935091 </td><td> 0.213677957</td><td>-0.398521938</td><td> 0.21001257 </td></tr>\n",
              "\t<tr><th scope=row>trestbps</th><td> 0.2793509  </td><td> 1.00000000 </td><td> 0.123174207</td><td>-0.046697728</td><td> 0.19321647 </td></tr>\n",
              "\t<tr><th scope=row>chol</th><td> 0.2136780  </td><td> 0.12317421 </td><td> 1.000000000</td><td>-0.009939839</td><td> 0.05395192 </td></tr>\n",
              "\t<tr><th scope=row>thalach</th><td>-0.3985219  </td><td>-0.04669773 </td><td>-0.009939839</td><td> 1.000000000</td><td>-0.34418695 </td></tr>\n",
              "\t<tr><th scope=row>oldpeak</th><td> 0.2100126  </td><td> 0.19321647 </td><td> 0.053951920</td><td>-0.344186948</td><td> 1.00000000 </td></tr>\n",
              "</tbody>\n",
              "</table>\n"
            ],
            "text/latex": [
              "\\begin{tabular}{r|lllll}\n",
              "  & ï..age & trestbps & chol & thalach & oldpeak\\\\\n",
              "\\hline\n",
              "\tï..age &  1.0000000   &  0.27935091  &  0.213677957 & -0.398521938 &  0.21001257 \\\\\n",
              "\ttrestbps &  0.2793509   &  1.00000000  &  0.123174207 & -0.046697728 &  0.19321647 \\\\\n",
              "\tchol &  0.2136780   &  0.12317421  &  1.000000000 & -0.009939839 &  0.05395192 \\\\\n",
              "\tthalach & -0.3985219   & -0.04669773  & -0.009939839 &  1.000000000 & -0.34418695 \\\\\n",
              "\toldpeak &  0.2100126   &  0.19321647  &  0.053951920 & -0.344186948 &  1.00000000 \\\\\n",
              "\\end{tabular}\n"
            ],
            "text/markdown": [
              "\n",
              "| <!--/--> | ï..age | trestbps | chol | thalach | oldpeak |\n",
              "|---|---|---|---|---|---|\n",
              "| ï..age |  1.0000000   |  0.27935091  |  0.213677957 | -0.398521938 |  0.21001257  |\n",
              "| trestbps |  0.2793509   |  1.00000000  |  0.123174207 | -0.046697728 |  0.19321647  |\n",
              "| chol |  0.2136780   |  0.12317421  |  1.000000000 | -0.009939839 |  0.05395192  |\n",
              "| thalach | -0.3985219   | -0.04669773  | -0.009939839 |  1.000000000 | -0.34418695  |\n",
              "| oldpeak |  0.2100126   |  0.19321647  |  0.053951920 | -0.344186948 |  1.00000000  |\n",
              "\n"
            ],
            "text/plain": [
              "         ï..age     trestbps    chol         thalach      oldpeak    \n",
              "ï..age    1.0000000  0.27935091  0.213677957 -0.398521938  0.21001257\n",
              "trestbps  0.2793509  1.00000000  0.123174207 -0.046697728  0.19321647\n",
              "chol      0.2136780  0.12317421  1.000000000 -0.009939839  0.05395192\n",
              "thalach  -0.3985219 -0.04669773 -0.009939839  1.000000000 -0.34418695\n",
              "oldpeak   0.2100126  0.19321647  0.053951920 -0.344186948  1.00000000"
            ]
          },
          "metadata": {},
          "output_type": "display_data"
        },
        {
          "data": {
            "image/png": "[encoded data removed]",
            "text/plain": [
              "Plot with title \"\""
            ]
          },
          "metadata": {},
          "output_type": "display_data"
        }
      ],
      "source": [
        "cor_heart <- cor(data2[, 10:14])\n",
        "cor_heart\n",
        "\n",
        "corrplot(cor_heart, method ='square', type='upper')"
      ]
    },
    {
      "cell_type": "code",
      "execution_count": null,
      "metadata": {
        "id": "dMBvwX9FhlFQ",
        "outputId": "cf690873-9dff-4c2a-851a-c005f71de1de"
      },
      "outputs": [
        {
          "name": "stderr",
          "output_type": "stream",
          "text": [
            "starting httpd help server ... done\n"
          ]
        }
      ],
      "source": [
        "??method"
      ]
    },
    {
      "cell_type": "markdown",
      "metadata": {
        "id": "iBTTWzHXhlFQ"
      },
      "source": [
        "## Check for the null values"
      ]
    },
    {
      "cell_type": "code",
      "execution_count": null,
      "metadata": {
        "id": "EP6bx21IhlFQ"
      },
      "outputs": [],
      "source": [
        "s = sum(is.na(data2))"
      ]
    },
    {
      "cell_type": "code",
      "execution_count": null,
      "metadata": {
        "id": "_h7iHL5RhlFR",
        "outputId": "d2842fa1-89ec-4703-8e6e-175ef6e7201c"
      },
      "outputs": [
        {
          "data": {
            "text/html": [
              "0"
            ],
            "text/latex": [
              "0"
            ],
            "text/markdown": [
              "0"
            ],
            "text/plain": [
              "[1] 0"
            ]
          },
          "metadata": {},
          "output_type": "display_data"
        }
      ],
      "source": [
        "s"
      ]
    },
    {
      "cell_type": "code",
      "execution_count": null,
      "metadata": {
        "id": "Fwa_jQbwhlFR",
        "outputId": "55497bef-826a-4584-fdf1-7349d0e1bc51"
      },
      "outputs": [
        {
          "data": {
            "text/html": [
              "FALSE"
            ],
            "text/latex": [
              "FALSE"
            ],
            "text/markdown": [
              "FALSE"
            ],
            "text/plain": [
              "[1] FALSE"
            ]
          },
          "metadata": {},
          "output_type": "display_data"
        }
      ],
      "source": [
        "is.null(data2) #another way"
      ]
    },
    {
      "cell_type": "markdown",
      "metadata": {
        "id": "qgcoDV2khlFR"
      },
      "source": [
        "## Training and Testing the data"
      ]
    },
    {
      "cell_type": "code",
      "execution_count": null,
      "metadata": {
        "id": "KR3mpJkohlFR"
      },
      "outputs": [],
      "source": [
        "library(caret)\n",
        "set.seed(10)\n"
      ]
    },
    {
      "cell_type": "code",
      "execution_count": null,
      "metadata": {
        "id": "W9X_-MtFhlFR",
        "outputId": "942cea60-1ab6-4c9f-af08-5a520a2f7023"
      },
      "outputs": [
        {
          "data": {
            "text/html": [
              "<ol class=list-inline>\n",
              "\t<li>'target'</li>\n",
              "\t<li>'sex'</li>\n",
              "\t<li>'fbs'</li>\n",
              "\t<li>'exang'</li>\n",
              "\t<li>'cp'</li>\n",
              "\t<li>'restecg'</li>\n",
              "\t<li>'slope'</li>\n",
              "\t<li>'ca'</li>\n",
              "\t<li>'thal'</li>\n",
              "\t<li>'ï..age'</li>\n",
              "\t<li>'trestbps'</li>\n",
              "\t<li>'chol'</li>\n",
              "\t<li>'thalach'</li>\n",
              "\t<li>'oldpeak'</li>\n",
              "</ol>\n"
            ],
            "text/latex": [
              "\\begin{enumerate*}\n",
              "\\item 'target'\n",
              "\\item 'sex'\n",
              "\\item 'fbs'\n",
              "\\item 'exang'\n",
              "\\item 'cp'\n",
              "\\item 'restecg'\n",
              "\\item 'slope'\n",
              "\\item 'ca'\n",
              "\\item 'thal'\n",
              "\\item 'ï..age'\n",
              "\\item 'trestbps'\n",
              "\\item 'chol'\n",
              "\\item 'thalach'\n",
              "\\item 'oldpeak'\n",
              "\\end{enumerate*}\n"
            ],
            "text/markdown": [
              "1. 'target'\n",
              "2. 'sex'\n",
              "3. 'fbs'\n",
              "4. 'exang'\n",
              "5. 'cp'\n",
              "6. 'restecg'\n",
              "7. 'slope'\n",
              "8. 'ca'\n",
              "9. 'thal'\n",
              "10. 'ï..age'\n",
              "11. 'trestbps'\n",
              "12. 'chol'\n",
              "13. 'thalach'\n",
              "14. 'oldpeak'\n",
              "\n",
              "\n"
            ],
            "text/plain": [
              " [1] \"target\"   \"sex\"      \"fbs\"      \"exang\"    \"cp\"       \"restecg\" \n",
              " [7] \"slope\"    \"ca\"       \"thal\"     \"ï..age\"   \"trestbps\" \"chol\"    \n",
              "[13] \"thalach\"  \"oldpeak\" "
            ]
          },
          "metadata": {},
          "output_type": "display_data"
        }
      ],
      "source": [
        "colnames(data2)"
      ]
    },
    {
      "cell_type": "code",
      "execution_count": null,
      "metadata": {
        "id": "4EJ3-GxkhlFR",
        "outputId": "35f86d3e-3afc-4217-8b4f-307c2e7c0b76"
      },
      "outputs": [
        {
          "data": {
            "text/html": [
              "0.702970297029703"
            ],
            "text/latex": [
              "0.702970297029703"
            ],
            "text/markdown": [
              "0.702970297029703"
            ],
            "text/plain": [
              "[1] 0.7029703"
            ]
          },
          "metadata": {},
          "output_type": "display_data"
        }
      ],
      "source": [
        "inTrainRows <- createDataPartition(data2$target,p=0.7,list=FALSE)\n",
        "trainData <- data2[inTrainRows,]\n",
        "testData <-  data2[-inTrainRows,]\n",
        "nrow(trainData)/(nrow(testData)+nrow(trainData)) #check the percentage"
      ]
    },
    {
      "cell_type": "code",
      "execution_count": null,
      "metadata": {
        "id": "PX2KD3CkhlFR"
      },
      "outputs": [],
      "source": [
        "AUC = list()\n",
        "Accuracy = list()"
      ]
    },
    {
      "cell_type": "code",
      "execution_count": null,
      "metadata": {
        "id": "7o_jDiaJhlFR",
        "outputId": "d121d62c-2fb1-4f4e-f86f-46ae90dac68f"
      },
      "outputs": [
        {
          "ename": "ERROR",
          "evalue": "Error: package e1071 is required\n",
          "output_type": "error",
          "traceback": [
            "Error: package e1071 is required\nTraceback:\n",
            "1. train(target ~ ., data = trainData, method = \"glm\", family = \"binomial\")",
            "2. train.formula(target ~ ., data = trainData, method = \"glm\", family = \"binomial\")",
            "3. train(x, y, weights = w, ...)",
            "4. train.default(x, y, weights = w, ...)",
            "5. evalSummaryFunction(y, wts = weights, ctrl = trControl, lev = classLevels, \n .     metric = metric, method = method)",
            "6. ctrl$summaryFunction(testOutput, lev, method)",
            "7. postResample(data[, \"pred\"], data[, \"obs\"])",
            "8. requireNamespaceQuietStop(\"e1071\")",
            "9. stop(paste(\"package\", package, \"is required\"), call. = FALSE)"
          ]
        }
      ],
      "source": [
        "set.seed(10)\n",
        "logRegModel <- train(target ~ ., data=trainData, method = 'glm', family = 'binomial')\n",
        "logRegPrediction <- predict(logRegModel, testData)\n",
        "logRegPredictionprob <- predict(logRegModel, testData, type='prob')[2]\n",
        "logRegConfMat <- confusionMatrix(logRegPrediction, testData[,\"target\"])\n",
        "#ROC Curve\n",
        "library(pROC)\n",
        "AUC$logReg <- roc(as.numeric(testData$target),as.numeric(as.matrix((logRegPredictionprob))))$auc\n",
        "Accuracy$logReg <- logRegConfMat$overall['Accuracy']  #found names with str(logRegConfMat)"
      ]
    },
    {
      "cell_type": "code",
      "execution_count": null,
      "metadata": {
        "id": "bKxfOJAuhlFS",
        "outputId": "09b06abc-728f-4285-daec-6df63caf92df"
      },
      "outputs": [
        {
          "name": "stderr",
          "output_type": "stream",
          "text": [
            "also installing the dependencies 'proxy', 'mlbench', 'SparseM', 'slam'\n",
            "\n"
          ]
        },
        {
          "name": "stdout",
          "output_type": "stream",
          "text": [
            "\n",
            "  There are binary versions available but the source versions are later:\n",
            "      binary source needs_compilation\n",
            "proxy 0.4-25 0.4-26              TRUE\n",
            "slam  0.1-48 0.1-49              TRUE\n",
            "e1071  1.7-6  1.7-9              TRUE\n",
            "\n",
            "  Binaries will be installed\n",
            "package 'proxy' successfully unpacked and MD5 sums checked\n",
            "package 'mlbench' successfully unpacked and MD5 sums checked\n",
            "package 'SparseM' successfully unpacked and MD5 sums checked\n",
            "package 'slam' successfully unpacked and MD5 sums checked\n",
            "package 'e1071' successfully unpacked and MD5 sums checked\n",
            "\n",
            "The downloaded binary packages are in\n",
            "\tC:\\Users\\HP\\AppData\\Local\\Temp\\Rtmpc3aPAT\\downloaded_packages\n"
          ]
        }
      ],
      "source": [
        "install.packages('e1071', dependencies=TRUE)"
      ]
    },
    {
      "cell_type": "code",
      "execution_count": null,
      "metadata": {
        "id": "BPPAGvs7hlFS",
        "outputId": "3fa3ee3a-99aa-4415-a634-1fcadb8f11ff"
      },
      "outputs": [
        {
          "name": "stderr",
          "output_type": "stream",
          "text": [
            "Warning message in predict.lm(object, newdata, se.fit, scale = 1, type = if (type == :\n",
            "\"prediction from a rank-deficient fit may be misleading\"Warning message in predict.lm(object, newdata, se.fit, scale = 1, type = if (type == :\n",
            "\"prediction from a rank-deficient fit may be misleading\"Warning message in predict.lm(object, newdata, se.fit, scale = 1, type = if (type == :\n",
            "\"prediction from a rank-deficient fit may be misleading\"Warning message in predict.lm(object, newdata, se.fit, scale = 1, type = if (type == :\n",
            "\"prediction from a rank-deficient fit may be misleading\""
          ]
        },
        {
          "ename": "ERROR",
          "evalue": "Error in library(pROC): there is no package called 'pROC'\n",
          "output_type": "error",
          "traceback": [
            "Error in library(pROC): there is no package called 'pROC'\nTraceback:\n",
            "1. library(pROC)"
          ]
        }
      ],
      "source": [
        "set.seed(10)\n",
        "logRegModel <- train(target ~ ., data=trainData, method = 'glm', family = 'binomial')\n",
        "logRegPrediction <- predict(logRegModel, testData)\n",
        "logRegPredictionprob <- predict(logRegModel, testData, type='prob')[2]\n",
        "logRegConfMat <- confusionMatrix(logRegPrediction, testData[,\"target\"])\n",
        "#ROC Curve\n",
        "library(pROC)\n",
        "AUC$logReg <- roc(as.numeric(testData$target),as.numeric(as.matrix((logRegPredictionprob))))$auc\n",
        "Accuracy$logReg <- logRegConfMat$overall['Accuracy']  #found names with str(logRegConfMat)"
      ]
    },
    {
      "cell_type": "code",
      "execution_count": null,
      "metadata": {
        "collapsed": true,
        "id": "0uimDjFjhlFS",
        "outputId": "a218a1f3-1972-46a5-da46-92fb81bcf5ca"
      },
      "outputs": [
        {
          "name": "stdout",
          "output_type": "stream",
          "text": [
            "\n",
            "  There is a binary version available but the source version is later:\n",
            "       binary source needs_compilation\n",
            "pROC 1.17.0.1 1.18.0              TRUE\n",
            "\n",
            "  Binaries will be installed\n",
            "package 'pROC' successfully unpacked and MD5 sums checked\n",
            "\n",
            "The downloaded binary packages are in\n",
            "\tC:\\Users\\HP\\AppData\\Local\\Temp\\Rtmpc3aPAT\\downloaded_packages\n"
          ]
        }
      ],
      "source": [
        "install.packages(\"pROC\")"
      ]
    },
    {
      "cell_type": "code",
      "execution_count": null,
      "metadata": {
        "collapsed": true,
        "id": "7gnpcV47hlFS",
        "outputId": "063b0cc4-1c6c-4199-ac05-fa56ad2f4b3b"
      },
      "outputs": [
        {
          "name": "stderr",
          "output_type": "stream",
          "text": [
            "Warning message in predict.lm(object, newdata, se.fit, scale = 1, type = if (type == :\n",
            "\"prediction from a rank-deficient fit may be misleading\"Warning message in predict.lm(object, newdata, se.fit, scale = 1, type = if (type == :\n",
            "\"prediction from a rank-deficient fit may be misleading\"Warning message in predict.lm(object, newdata, se.fit, scale = 1, type = if (type == :\n",
            "\"prediction from a rank-deficient fit may be misleading\"Warning message in predict.lm(object, newdata, se.fit, scale = 1, type = if (type == :\n",
            "\"prediction from a rank-deficient fit may be misleading\"Warning message:\n",
            "\"package 'pROC' was built under R version 3.6.3\"Type 'citation(\"pROC\")' for a citation.\n",
            "\n",
            "Attaching package: 'pROC'\n",
            "\n",
            "The following objects are masked from 'package:stats':\n",
            "\n",
            "    cov, smooth, var\n",
            "\n",
            "Setting levels: control = 1, case = 2\n",
            "Setting direction: controls < cases\n"
          ]
        }
      ],
      "source": [
        "set.seed(10)\n",
        "logRegModel <- train(target ~ ., data=trainData, method = 'glm', family = 'binomial')\n",
        "logRegPrediction <- predict(logRegModel, testData)\n",
        "logRegPredictionprob <- predict(logRegModel, testData, type='prob')[2]\n",
        "logRegConfMat <- confusionMatrix(logRegPrediction, testData[,\"target\"])\n",
        "#ROC Curve\n",
        "library(pROC)\n",
        "AUC$logReg <- roc(as.numeric(testData$target),as.numeric(as.matrix((logRegPredictionprob))))$auc\n",
        "Accuracy$logReg <- logRegConfMat$overall['Accuracy']  #found names with str(logRegConfMat)"
      ]
    },
    {
      "cell_type": "markdown",
      "metadata": {
        "id": "02kZsNYahlFS"
      },
      "source": [
        "## Support Vector Machine"
      ]
    },
    {
      "cell_type": "code",
      "execution_count": null,
      "metadata": {
        "id": "ekwnujbAhlFT",
        "outputId": "bb459f08-e7a8-44c7-d946-d3677217eef5"
      },
      "outputs": [
        {
          "name": "stdout",
          "output_type": "stream",
          "text": [
            "1 package is needed for this model and is not installed. (kernlab). Would you like to try to install it now?"
          ]
        },
        {
          "ename": "ERROR",
          "evalue": "Error: Required package is missing\n",
          "output_type": "error",
          "traceback": [
            "Error: Required package is missing\nTraceback:\n",
            "1. train(target ~ ., data = trainData, method = \"svmRadial\", trControl = fitControl, \n .     preProcess = c(\"center\", \"scale\"), tuneLength = 8, metric = \"ROC\")",
            "2. train.formula(target ~ ., data = trainData, method = \"svmRadial\", \n .     trControl = fitControl, preProcess = c(\"center\", \"scale\"), \n .     tuneLength = 8, metric = \"ROC\")",
            "3. train(x, y, weights = w, ...)",
            "4. train.default(x, y, weights = w, ...)",
            "5. checkInstall(models$library)",
            "6. stop(\"Required package is missing\", call. = FALSE)"
          ]
        }
      ],
      "source": [
        "set.seed(10)\n",
        "svmModel <- train(target ~ ., data = trainData,\n",
        "                 method = \"svmRadial\",\n",
        "                 trControl = fitControl,\n",
        "                 preProcess = c(\"center\", \"scale\"),\n",
        "                 tuneLength = 8,\n",
        "                 metric = \"ROC\")\n",
        "svmPrediction <- predict(svmModel, testData2)\n",
        "svmPredictionprob <- predict(svmModel, testData2, type='prob')[2]\n",
        "svmConfMat <- confusionMatrix(svmPrediction, testData2[,\"target\"])\n",
        "#ROC Curve\n",
        "AUC$svm <- roc(as.numeric(testData2$target),as.numeric(as.matrix((svmPredictionprob))))$auc\n",
        "Accuracy$svm <- svmConfMat$overall['Accuracy']"
      ]
    },
    {
      "cell_type": "code",
      "execution_count": null,
      "metadata": {
        "id": "343Au148hlFU",
        "outputId": "4fe4c5b6-79c7-41fe-ce37-2d846ebc3872"
      },
      "outputs": [
        {
          "name": "stdout",
          "output_type": "stream",
          "text": [
            "package 'kernlab' successfully unpacked and MD5 sums checked\n",
            "\n",
            "The downloaded binary packages are in\n",
            "\tC:\\Users\\HP\\AppData\\Local\\Temp\\Rtmpc3aPAT\\downloaded_packages\n"
          ]
        }
      ],
      "source": [
        "install.packages('kernlab')"
      ]
    },
    {
      "cell_type": "code",
      "execution_count": null,
      "metadata": {
        "id": "NMCuKzOuhlFU"
      },
      "outputs": [],
      "source": [
        "fitControl <- trainControl(method = \"repeatedcv\",\n",
        "                           number = 10,\n",
        "                           repeats = 10,\n",
        "                           ## Estimate class probabilities\n",
        "                           classProbs = TRUE,\n",
        "                           ## Evaluate performance using\n",
        "                           ## the following function\n",
        "                           summaryFunction = twoClassSummary)"
      ]
    },
    {
      "cell_type": "code",
      "execution_count": null,
      "metadata": {
        "id": "bCTmUnIWhlFU",
        "outputId": "1a2579ff-ae38-4a4b-879b-0f97c153eb2e"
      },
      "outputs": [
        {
          "name": "stderr",
          "output_type": "stream",
          "text": [
            "Setting levels: control = 1, case = 2\n",
            "Setting direction: controls < cases\n"
          ]
        }
      ],
      "source": [
        "set.seed(10)\n",
        "svmModel <- train(target ~ ., data = trainData,\n",
        "                 method = \"svmRadial\",\n",
        "                 trControl = fitControl,\n",
        "                 preProcess = c(\"center\", \"scale\"),\n",
        "                 tuneLength = 8,\n",
        "                 metric = \"ROC\")\n",
        "svmPrediction <- predict(svmModel, testData)\n",
        "svmPredictionprob <- predict(svmModel, testData, type='prob')[2]\n",
        "svmConfMat <- confusionMatrix(svmPrediction, testData[,\"target\"])\n",
        "#ROC Curve\n",
        "AUC$svm <- roc(as.numeric(testData$target),as.numeric(as.matrix((svmPredictionprob))))$auc\n",
        "Accuracy$svm <- svmConfMat$overall['Accuracy']"
      ]
    },
    {
      "cell_type": "markdown",
      "metadata": {
        "id": "TYUIsCqDhlFU"
      },
      "source": [
        "## Random Forest"
      ]
    },
    {
      "cell_type": "code",
      "execution_count": null,
      "metadata": {
        "id": "qt88ihPvhlFV",
        "outputId": "13799b09-ef2f-4ea4-c072-f6161b02a8f2"
      },
      "outputs": [
        {
          "name": "stderr",
          "output_type": "stream",
          "text": [
            "Setting levels: control = 1, case = 2\n",
            "Setting direction: controls < cases\n"
          ]
        }
      ],
      "source": [
        "library(randomForest)\n",
        "set.seed(10)\n",
        "RFModel <- randomForest(target ~ .,\n",
        "                    data=trainData,\n",
        "                    importance=TRUE,\n",
        "                    ntree=200)\n",
        "#varImpPlot(RFModel)\n",
        "RFPrediction <- predict(RFModel, testData)\n",
        "RFPredictionprob = predict(RFModel,testData,type=\"prob\")[, 2]\n",
        "\n",
        "RFConfMat <- confusionMatrix(RFPrediction, testData[,\"target\"])\n",
        "\n",
        "AUC$RF <- roc(as.numeric(testData$target),as.numeric(as.matrix((RFPredictionprob))))$auc\n",
        "Accuracy$RF <- RFConfMat$overall['Accuracy']"
      ]
    },
    {
      "cell_type": "markdown",
      "metadata": {
        "id": "0kKcgxgWhlFV"
      },
      "source": [
        "## Comparison of AUC and Accuracy between models"
      ]
    },
    {
      "cell_type": "code",
      "execution_count": null,
      "metadata": {
        "id": "mvFcXeKLhlFV",
        "outputId": "095419d9-6d08-4f44-ebe4-c72f8073e737"
      },
      "outputs": [
        {
          "data": {
            "text/html": [
              "<table>\n",
              "<thead><tr><th></th><th scope=col>AUC</th><th scope=col>Accuracy</th></tr></thead>\n",
              "<tbody>\n",
              "\t<tr><th scope=row>logReg</th><td>0.9298158</td><td>0.8666667</td></tr>\n",
              "\t<tr><th scope=row>svm</th><td>0.8959681</td><td>0.8111111</td></tr>\n",
              "\t<tr><th scope=row>RF</th><td>0.888004 </td><td>0.8333333</td></tr>\n",
              "</tbody>\n",
              "</table>\n"
            ],
            "text/latex": [
              "\\begin{tabular}{r|ll}\n",
              "  & AUC & Accuracy\\\\\n",
              "\\hline\n",
              "\tlogReg & 0.9298158 & 0.8666667\\\\\n",
              "\tsvm & 0.8959681 & 0.8111111\\\\\n",
              "\tRF & 0.888004  & 0.8333333\\\\\n",
              "\\end{tabular}\n"
            ],
            "text/markdown": [
              "\n",
              "| <!--/--> | AUC | Accuracy |\n",
              "|---|---|---|\n",
              "| logReg | 0.9298158 | 0.8666667 |\n",
              "| svm | 0.8959681 | 0.8111111 |\n",
              "| RF | 0.888004  | 0.8333333 |\n",
              "\n"
            ],
            "text/plain": [
              "       AUC       Accuracy \n",
              "logReg 0.9298158 0.8666667\n",
              "svm    0.8959681 0.8111111\n",
              "RF     0.888004  0.8333333"
            ]
          },
          "metadata": {},
          "output_type": "display_data"
        }
      ],
      "source": [
        "row.names <- names(Accuracy)\n",
        "col.names <- c(\"AUC\", \"Accuracy\")\n",
        "cbind(as.data.frame(matrix(c(AUC,Accuracy),nrow = 3, ncol = 2,\n",
        "                           dimnames = list(row.names, col.names))))"
      ]
    },
    {
      "cell_type": "code",
      "execution_count": null,
      "metadata": {
        "id": "OTPKXDMmhlFV",
        "outputId": "2b08fdeb-118c-43db-efac-256fe3444e55"
      },
      "outputs": [
        {
          "data": {
            "text/html": [
              "<table>\n",
              "<thead><tr><th></th><th scope=col>Estimate</th><th scope=col>Std. Error</th><th scope=col>z value</th><th scope=col>Pr(&gt;|z|)</th></tr></thead>\n",
              "<tbody>\n",
              "\t<tr><th scope=row>(Intercept)</th><td>-1.002901016</td><td>3.672817206 </td><td>-0.2730604  </td><td>0.784806770 </td></tr>\n",
              "\t<tr><th scope=row>sexMALE</th><td>-1.108411204</td><td>0.629831168 </td><td>-1.7598545  </td><td>0.078432483 </td></tr>\n",
              "\t<tr><th scope=row>`fbs&gt;120`</th><td> 0.099727473</td><td>0.695895093 </td><td> 0.1433082  </td><td>0.886046780 </td></tr>\n",
              "\t<tr><th scope=row>exangYES</th><td>-1.053668716</td><td>0.507650309 </td><td>-2.0755798  </td><td>0.037932833 </td></tr>\n",
              "\t<tr><th scope=row>`cpATYPICAL ANGINA`</th><td> 0.576785085</td><td>0.673929885 </td><td> 0.8558533  </td><td>0.392078955 </td></tr>\n",
              "\t<tr><th scope=row>`cpNON-ANGINAL PAIN`</th><td> 1.766764364</td><td>0.599090285 </td><td> 2.9490786  </td><td>0.003187229 </td></tr>\n",
              "\t<tr><th scope=row>restecgNORMAL</th><td>-0.389889283</td><td>0.467477322 </td><td>-0.8340282  </td><td>0.404265076 </td></tr>\n",
              "\t<tr><th scope=row>`restecgPROBABLE OR DEFINITE`</th><td>-1.405550323</td><td>2.763325521 </td><td>-0.5086445  </td><td>0.611001432 </td></tr>\n",
              "\t<tr><th scope=row>slope1</th><td>-0.176704487</td><td>0.989144482 </td><td>-0.1786438  </td><td>0.858217433 </td></tr>\n",
              "\t<tr><th scope=row>slope2</th><td> 0.553034654</td><td>1.061991982 </td><td> 0.5207522  </td><td>0.602539410 </td></tr>\n",
              "\t<tr><th scope=row>ca1</th><td>-1.777145318</td><td>0.645108941 </td><td>-2.7547988  </td><td>0.005872824 </td></tr>\n",
              "\t<tr><th scope=row>ca2</th><td>-2.268238705</td><td>0.808616253 </td><td>-2.8050867  </td><td>0.005030305 </td></tr>\n",
              "\t<tr><th scope=row>ca3</th><td>-2.851293357</td><td>1.147811970 </td><td>-2.4841119  </td><td>0.012987499 </td></tr>\n",
              "\t<tr><th scope=row>ca4</th><td> 0.817409952</td><td>1.767412707 </td><td> 0.4624896  </td><td>0.643730277 </td></tr>\n",
              "\t<tr><th scope=row>thal1</th><td> 1.772336190</td><td>2.339184935 </td><td> 0.7576725  </td><td>0.448647042 </td></tr>\n",
              "\t<tr><th scope=row>thal2</th><td> 2.237791893</td><td>2.162634801 </td><td> 1.0347526  </td><td>0.300784484 </td></tr>\n",
              "\t<tr><th scope=row>thal3</th><td> 0.673386827</td><td>2.171206001 </td><td> 0.3101441  </td><td>0.756451344 </td></tr>\n",
              "\t<tr><th scope=row>ï..age</th><td> 0.024663417</td><td>0.028647254 </td><td> 0.8609348  </td><td>0.389273970 </td></tr>\n",
              "\t<tr><th scope=row>trestbps</th><td>-0.010674095</td><td>0.013843176 </td><td>-0.7710727  </td><td>0.440663869 </td></tr>\n",
              "\t<tr><th scope=row>chol</th><td>-0.005737794</td><td>0.005450973 </td><td>-1.0526183  </td><td>0.292515980 </td></tr>\n",
              "\t<tr><th scope=row>thalach</th><td> 0.019342446</td><td>0.014618446 </td><td> 1.3231533  </td><td>0.185784397 </td></tr>\n",
              "\t<tr><th scope=row>oldpeak</th><td>-0.374070565</td><td>0.296307740 </td><td>-1.2624394  </td><td>0.206790721 </td></tr>\n",
              "</tbody>\n",
              "</table>\n"
            ],
            "text/latex": [
              "\\begin{tabular}{r|llll}\n",
              "  & Estimate & Std. Error & z value & Pr(>\\textbar{}z\\textbar{})\\\\\n",
              "\\hline\n",
              "\t(Intercept) & -1.002901016 & 3.672817206  & -0.2730604   & 0.784806770 \\\\\n",
              "\tsexMALE & -1.108411204 & 0.629831168  & -1.7598545   & 0.078432483 \\\\\n",
              "\t`fbs>120` &  0.099727473 & 0.695895093  &  0.1433082   & 0.886046780 \\\\\n",
              "\texangYES & -1.053668716 & 0.507650309  & -2.0755798   & 0.037932833 \\\\\n",
              "\t`cpATYPICAL ANGINA` &  0.576785085 & 0.673929885  &  0.8558533   & 0.392078955 \\\\\n",
              "\t`cpNON-ANGINAL PAIN` &  1.766764364 & 0.599090285  &  2.9490786   & 0.003187229 \\\\\n",
              "\trestecgNORMAL & -0.389889283 & 0.467477322  & -0.8340282   & 0.404265076 \\\\\n",
              "\t`restecgPROBABLE OR DEFINITE` & -1.405550323 & 2.763325521  & -0.5086445   & 0.611001432 \\\\\n",
              "\tslope1 & -0.176704487 & 0.989144482  & -0.1786438   & 0.858217433 \\\\\n",
              "\tslope2 &  0.553034654 & 1.061991982  &  0.5207522   & 0.602539410 \\\\\n",
              "\tca1 & -1.777145318 & 0.645108941  & -2.7547988   & 0.005872824 \\\\\n",
              "\tca2 & -2.268238705 & 0.808616253  & -2.8050867   & 0.005030305 \\\\\n",
              "\tca3 & -2.851293357 & 1.147811970  & -2.4841119   & 0.012987499 \\\\\n",
              "\tca4 &  0.817409952 & 1.767412707  &  0.4624896   & 0.643730277 \\\\\n",
              "\tthal1 &  1.772336190 & 2.339184935  &  0.7576725   & 0.448647042 \\\\\n",
              "\tthal2 &  2.237791893 & 2.162634801  &  1.0347526   & 0.300784484 \\\\\n",
              "\tthal3 &  0.673386827 & 2.171206001  &  0.3101441   & 0.756451344 \\\\\n",
              "\tï..age &  0.024663417 & 0.028647254  &  0.8609348   & 0.389273970 \\\\\n",
              "\ttrestbps & -0.010674095 & 0.013843176  & -0.7710727   & 0.440663869 \\\\\n",
              "\tchol & -0.005737794 & 0.005450973  & -1.0526183   & 0.292515980 \\\\\n",
              "\tthalach &  0.019342446 & 0.014618446  &  1.3231533   & 0.185784397 \\\\\n",
              "\toldpeak & -0.374070565 & 0.296307740  & -1.2624394   & 0.206790721 \\\\\n",
              "\\end{tabular}\n"
            ],
            "text/markdown": [
              "\n",
              "| <!--/--> | Estimate | Std. Error | z value | Pr(>|z|) |\n",
              "|---|---|---|---|---|\n",
              "| (Intercept) | -1.002901016 | 3.672817206  | -0.2730604   | 0.784806770  |\n",
              "| sexMALE | -1.108411204 | 0.629831168  | -1.7598545   | 0.078432483  |\n",
              "| `fbs>120` |  0.099727473 | 0.695895093  |  0.1433082   | 0.886046780  |\n",
              "| exangYES | -1.053668716 | 0.507650309  | -2.0755798   | 0.037932833  |\n",
              "| `cpATYPICAL ANGINA` |  0.576785085 | 0.673929885  |  0.8558533   | 0.392078955  |\n",
              "| `cpNON-ANGINAL PAIN` |  1.766764364 | 0.599090285  |  2.9490786   | 0.003187229  |\n",
              "| restecgNORMAL | -0.389889283 | 0.467477322  | -0.8340282   | 0.404265076  |\n",
              "| `restecgPROBABLE OR DEFINITE` | -1.405550323 | 2.763325521  | -0.5086445   | 0.611001432  |\n",
              "| slope1 | -0.176704487 | 0.989144482  | -0.1786438   | 0.858217433  |\n",
              "| slope2 |  0.553034654 | 1.061991982  |  0.5207522   | 0.602539410  |\n",
              "| ca1 | -1.777145318 | 0.645108941  | -2.7547988   | 0.005872824  |\n",
              "| ca2 | -2.268238705 | 0.808616253  | -2.8050867   | 0.005030305  |\n",
              "| ca3 | -2.851293357 | 1.147811970  | -2.4841119   | 0.012987499  |\n",
              "| ca4 |  0.817409952 | 1.767412707  |  0.4624896   | 0.643730277  |\n",
              "| thal1 |  1.772336190 | 2.339184935  |  0.7576725   | 0.448647042  |\n",
              "| thal2 |  2.237791893 | 2.162634801  |  1.0347526   | 0.300784484  |\n",
              "| thal3 |  0.673386827 | 2.171206001  |  0.3101441   | 0.756451344  |\n",
              "| ï..age |  0.024663417 | 0.028647254  |  0.8609348   | 0.389273970  |\n",
              "| trestbps | -0.010674095 | 0.013843176  | -0.7710727   | 0.440663869  |\n",
              "| chol | -0.005737794 | 0.005450973  | -1.0526183   | 0.292515980  |\n",
              "| thalach |  0.019342446 | 0.014618446  |  1.3231533   | 0.185784397  |\n",
              "| oldpeak | -0.374070565 | 0.296307740  | -1.2624394   | 0.206790721  |\n",
              "\n"
            ],
            "text/plain": [
              "                              Estimate     Std. Error  z value    Pr(>|z|)   \n",
              "(Intercept)                   -1.002901016 3.672817206 -0.2730604 0.784806770\n",
              "sexMALE                       -1.108411204 0.629831168 -1.7598545 0.078432483\n",
              "`fbs>120`                      0.099727473 0.695895093  0.1433082 0.886046780\n",
              "exangYES                      -1.053668716 0.507650309 -2.0755798 0.037932833\n",
              "`cpATYPICAL ANGINA`            0.576785085 0.673929885  0.8558533 0.392078955\n",
              "`cpNON-ANGINAL PAIN`           1.766764364 0.599090285  2.9490786 0.003187229\n",
              "restecgNORMAL                 -0.389889283 0.467477322 -0.8340282 0.404265076\n",
              "`restecgPROBABLE OR DEFINITE` -1.405550323 2.763325521 -0.5086445 0.611001432\n",
              "slope1                        -0.176704487 0.989144482 -0.1786438 0.858217433\n",
              "slope2                         0.553034654 1.061991982  0.5207522 0.602539410\n",
              "ca1                           -1.777145318 0.645108941 -2.7547988 0.005872824\n",
              "ca2                           -2.268238705 0.808616253 -2.8050867 0.005030305\n",
              "ca3                           -2.851293357 1.147811970 -2.4841119 0.012987499\n",
              "ca4                            0.817409952 1.767412707  0.4624896 0.643730277\n",
              "thal1                          1.772336190 2.339184935  0.7576725 0.448647042\n",
              "thal2                          2.237791893 2.162634801  1.0347526 0.300784484\n",
              "thal3                          0.673386827 2.171206001  0.3101441 0.756451344\n",
              "ï..age                         0.024663417 0.028647254  0.8609348 0.389273970\n",
              "trestbps                      -0.010674095 0.013843176 -0.7710727 0.440663869\n",
              "chol                          -0.005737794 0.005450973 -1.0526183 0.292515980\n",
              "thalach                        0.019342446 0.014618446  1.3231533 0.185784397\n",
              "oldpeak                       -0.374070565 0.296307740 -1.2624394 0.206790721"
            ]
          },
          "metadata": {},
          "output_type": "display_data"
        }
      ],
      "source": [
        "summary(logRegModel)$coeff\n"
      ]
    },
    {
      "cell_type": "raw",
      "metadata": {
        "id": "xSYX30j1hlFW"
      },
      "source": [
        "How do you find z score in R?\n",
        "Z= (value – mean)/ (Standard Deviation)\n",
        "\n",
        "In general, the z score tells you how far a value is from the average of the data in terms of standard deviations."
      ]
    },
    {
      "cell_type": "raw",
      "metadata": {
        "id": "LR5afj5lhlFW"
      },
      "source": [
        "The standard score (more commonly referred to as a z-score) is a very useful statistic because it\n",
        "(a) allows us to calculate the probability of a score occurring within our normal distribution and\n",
        "(b) enables us to compare two scores that are from different normal distributions."
      ]
    },
    {
      "cell_type": "markdown",
      "metadata": {
        "id": "AxFRGLc9hlFW"
      },
      "source": [
        "## Confusion Matrix"
      ]
    },
    {
      "cell_type": "code",
      "execution_count": null,
      "metadata": {
        "id": "Bjxyf9kFhlFW",
        "outputId": "a1eefe80-8d3c-4def-e562-34c683e9a324"
      },
      "outputs": [
        {
          "data": {
            "text/plain": [
              "Confusion Matrix and Statistics\n",
              "\n",
              "          Reference\n",
              "Prediction NO YES\n",
              "       NO  34   5\n",
              "       YES  7  44\n",
              "                                          \n",
              "               Accuracy : 0.8667          \n",
              "                 95% CI : (0.7787, 0.9292)\n",
              "    No Information Rate : 0.5444          \n",
              "    P-Value [Acc > NIR] : 6.754e-11       \n",
              "                                          \n",
              "                  Kappa : 0.7301          \n",
              "                                          \n",
              " Mcnemar's Test P-Value : 0.7728          \n",
              "                                          \n",
              "            Sensitivity : 0.8293          \n",
              "            Specificity : 0.8980          \n",
              "         Pos Pred Value : 0.8718          \n",
              "         Neg Pred Value : 0.8627          \n",
              "             Prevalence : 0.4556          \n",
              "         Detection Rate : 0.3778          \n",
              "   Detection Prevalence : 0.4333          \n",
              "      Balanced Accuracy : 0.8636          \n",
              "                                          \n",
              "       'Positive' Class : NO              \n",
              "                                          "
            ]
          },
          "metadata": {},
          "output_type": "display_data"
        }
      ],
      "source": [
        "logRegConfMat"
      ]
    },
    {
      "cell_type": "raw",
      "metadata": {
        "id": "MYv-7vtGhlFW"
      },
      "source": [
        "p value to test hypothesis: smaller the p value, reject the proposed hypothesis and accepty the alternative one."
      ]
    },
    {
      "cell_type": "code",
      "execution_count": null,
      "metadata": {
        "id": "nqOn0S9QhlFW",
        "outputId": "5aa470bc-4968-42a6-bbba-5fc1ea35a413"
      },
      "outputs": [
        {
          "data": {
            "text/plain": [
              "Confusion Matrix and Statistics\n",
              "\n",
              "          Reference\n",
              "Prediction NO YES\n",
              "       NO  31   5\n",
              "       YES 10  44\n",
              "                                        \n",
              "               Accuracy : 0.8333        \n",
              "                 95% CI : (0.74, 0.9036)\n",
              "    No Information Rate : 0.5444        \n",
              "    P-Value [Acc > NIR] : 7.067e-09     \n",
              "                                        \n",
              "                  Kappa : 0.6606        \n",
              "                                        \n",
              " Mcnemar's Test P-Value : 0.3017        \n",
              "                                        \n",
              "            Sensitivity : 0.7561        \n",
              "            Specificity : 0.8980        \n",
              "         Pos Pred Value : 0.8611        \n",
              "         Neg Pred Value : 0.8148        \n",
              "             Prevalence : 0.4556        \n",
              "         Detection Rate : 0.3444        \n",
              "   Detection Prevalence : 0.4000        \n",
              "      Balanced Accuracy : 0.8270        \n",
              "                                        \n",
              "       'Positive' Class : NO            \n",
              "                                        "
            ]
          },
          "metadata": {},
          "output_type": "display_data"
        }
      ],
      "source": [
        "\n",
        "RFConfMat"
      ]
    },
    {
      "cell_type": "code",
      "execution_count": null,
      "metadata": {
        "id": "gLgvwNMPhlFX",
        "outputId": "aeed3917-a724-46fa-8a66-8cd6cf0d0d95"
      },
      "outputs": [
        {
          "data": {
            "text/plain": [
              "Confusion Matrix and Statistics\n",
              "\n",
              "          Reference\n",
              "Prediction NO YES\n",
              "       NO  34  10\n",
              "       YES  7  39\n",
              "                                          \n",
              "               Accuracy : 0.8111          \n",
              "                 95% CI : (0.7149, 0.8859)\n",
              "    No Information Rate : 0.5444          \n",
              "    P-Value [Acc > NIR] : 1.061e-07       \n",
              "                                          \n",
              "                  Kappa : 0.6215          \n",
              "                                          \n",
              " Mcnemar's Test P-Value : 0.6276          \n",
              "                                          \n",
              "            Sensitivity : 0.8293          \n",
              "            Specificity : 0.7959          \n",
              "         Pos Pred Value : 0.7727          \n",
              "         Neg Pred Value : 0.8478          \n",
              "             Prevalence : 0.4556          \n",
              "         Detection Rate : 0.3778          \n",
              "   Detection Prevalence : 0.4889          \n",
              "      Balanced Accuracy : 0.8126          \n",
              "                                          \n",
              "       'Positive' Class : NO              \n",
              "                                          "
            ]
          },
          "metadata": {},
          "output_type": "display_data"
        }
      ],
      "source": [
        "svmConfMat"
      ]
    },
    {
      "cell_type": "code",
      "execution_count": null,
      "metadata": {
        "id": "OAyw0J6NhlFX"
      },
      "outputs": [],
      "source": [
        "A comparison of the area under the ROC and the accuracy of the model predictions shows that logistic regression performs best\n",
        "(accuracy of 0.87).\n",
        "Tree-based methods shows low accuracy."
      ]
    },
    {
      "cell_type": "code",
      "execution_count": null,
      "metadata": {
        "id": "5S5lZFwShlFX"
      },
      "outputs": [],
      "source": []
    }
  ],
  "metadata": {
    "kernelspec": {
      "display_name": "R",
      "language": "R",
      "name": "ir"
    },
    "language_info": {
      "codemirror_mode": "r",
      "file_extension": ".r",
      "mimetype": "text/x-r-source",
      "name": "R",
      "pygments_lexer": "r",
      "version": "3.6.1"
    },
    "colab": {
      "provenance": [],
      "include_colab_link": true
    }
  },
  "nbformat": 4,
  "nbformat_minor": 0
}